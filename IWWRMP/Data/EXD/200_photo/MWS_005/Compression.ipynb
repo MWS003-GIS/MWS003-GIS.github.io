{
 "cells": [
  {
   "cell_type": "code",
   "execution_count": 9,
   "metadata": {},
   "outputs": [],
   "source": [
    "import os\n",
    "from PIL import Image\n",
    "from pillow_heif import register_heif_opener"
   ]
  },
  {
   "cell_type": "code",
   "execution_count": 21,
   "metadata": {},
   "outputs": [],
   "source": [
    "register_heif_opener()\n",
    "\n",
    "file_path = r'Thalathuoya West'\n",
    "out = r'E:\\Photos\\Compressed\\MWS_004_Compressed'\n",
    "for file in os.listdir(file_path):\n",
    "    im_path = os.path.join(file_path, file)\n",
    "    im = Image.open(im_path)\n",
    "\n",
    "    width_percent = 200 / float(im.width)\n",
    "    new_height = int(float(im.height) * width_percent)\n",
    "    im_r = im.resize((200, new_height))\n",
    "\n",
    "    im_r.save(f\"{out}/{file_path}/{file}\", \"JPEG\", quality=75, optimize=True)"
   ]
  }
 ],
 "metadata": {
  "kernelspec": {
   "display_name": "Python 3",
   "language": "python",
   "name": "python3"
  },
  "language_info": {
   "codemirror_mode": {
    "name": "ipython",
    "version": 3
   },
   "file_extension": ".py",
   "mimetype": "text/x-python",
   "name": "python",
   "nbconvert_exporter": "python",
   "pygments_lexer": "ipython3",
   "version": "3.12.4"
  }
 },
 "nbformat": 4,
 "nbformat_minor": 2
}
